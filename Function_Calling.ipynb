{
 "cells": [
  {
   "cell_type": "code",
   "execution_count": 1,
   "id": "2c7a4386",
   "metadata": {},
   "outputs": [],
   "source": [
    "import pandas as pd\n",
    "def split_and_convert_bp_column(data):\n",
    "    # Split the Blood_Pressure column into systolic and diastolic columns\n",
    "    data[['Systolic_BP', 'Diastolic_BP']] = data['Blood_Pressure'].str.split('/', expand=True)\n",
    "\n",
    "    # Convert the new columns to numerical values (floats)\n",
    "    data['Systolic_BP'] = pd.to_numeric(data['Systolic_BP'], errors='coerce')\n",
    "    data['Diastolic_BP'] = pd.to_numeric(data['Diastolic_BP'], errors='coerce')\n",
    "\n",
    "    # Drop the original Blood_Pressure column\n",
    "    data.drop(columns=['Blood_Pressure'], inplace=True)"
   ]
  },
  {
   "cell_type": "code",
   "execution_count": 2,
   "id": "e77d800a",
   "metadata": {},
   "outputs": [],
   "source": [
    "import pandas as pd\n",
    "\n",
    "def data_clean(datasetTrain):\n",
    "    irrelevant_columns = ['Family_Income', 'Parental_Education', 'Sleep_Duration_Hrs', 'ID']\n",
    "    columns_to_convert = ['Fever', 'Cough', 'Runny_Nose', 'Skin_Rash', 'Vomiting', 'Diarrhea']\n",
    "    datasetTrain = datasetTrain.drop(columns=irrelevant_columns)\n",
    "    datasetTrain[columns_to_convert] = datasetTrain[columns_to_convert].astype(int)\n",
    "    datasetTrain['Feeding_Method'] = datasetTrain['Feeding_Method'].replace({'Formula': 2, 'Breastfed': 1, 'Mixed': 0})\n",
    "    datasetTrain['Immunization_Status'] = datasetTrain['Immunization_Status'].replace({'Complete': 1, 'Incomplete': 0})\n",
    "    \n",
    "    return datasetTrain"
   ]
  },
  {
   "cell_type": "code",
   "execution_count": null,
   "id": "d5746a95",
   "metadata": {},
   "outputs": [],
   "source": []
  }
 ],
 "metadata": {
  "kernelspec": {
   "display_name": "Python 3 (ipykernel)",
   "language": "python",
   "name": "python3"
  },
  "language_info": {
   "codemirror_mode": {
    "name": "ipython",
    "version": 3
   },
   "file_extension": ".py",
   "mimetype": "text/x-python",
   "name": "python",
   "nbconvert_exporter": "python",
   "pygments_lexer": "ipython3",
   "version": "3.11.4"
  }
 },
 "nbformat": 4,
 "nbformat_minor": 5
}
